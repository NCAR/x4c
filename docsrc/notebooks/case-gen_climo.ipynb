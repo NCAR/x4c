{
 "cells": [
  {
   "cell_type": "code",
   "execution_count": 1,
   "metadata": {},
   "outputs": [
    {
     "name": "stdout",
     "output_type": "stream",
     "text": [
      "2024.8.24\n"
     ]
    }
   ],
   "source": [
    "%load_ext autoreload\n",
    "%autoreload 2\n",
    "\n",
    "import os\n",
    "os.chdir('/glade/u/home/fengzhu/Github/x4c/docsrc/notebooks')\n",
    "import x4c\n",
    "print(x4c.__version__)"
   ]
  },
  {
   "cell_type": "code",
   "execution_count": 3,
   "metadata": {},
   "outputs": [
    {
     "name": "stdout",
     "output_type": "stream",
     "text": [
      "\u001b[36m\u001b[1m>>> case.root_dir: /glade/campaign/univ/ubrn0018/fengzhu/CESM_output/timeseries/b.e13.B1850C5.ne16_g16.icesm131_d18O_fixer.Miocene.3xCO2.005\u001b[0m\n",
      "\u001b[36m\u001b[1m>>> case.path_pattern: comp/proc/tseries/month_1/casename.mdl.h_str.vn.timespan.nc\u001b[0m\n",
      "\u001b[36m\u001b[1m>>> case.grid_dict: {'atm': 'ne16np4', 'ocn': 'g16', 'lnd': 'ne16np4', 'rof': 'ne16np4', 'ice': 'g16'}\u001b[0m\n",
      "\u001b[36m\u001b[1m>>> case.casename: b.e13.B1850C5.ne16_g16.icesm131_d18O_fixer.Miocene.3xCO2.005\u001b[0m\n",
      "\u001b[32m\u001b[1m>>> case.vars_info created\u001b[0m\n"
     ]
    }
   ],
   "source": [
    "dirpath = '/glade/campaign/univ/ubrn0018/fengzhu/CESM_output/timeseries/b.e13.B1850C5.ne16_g16.icesm131_d18O_fixer.Miocene.3xCO2.005'\n",
    "case = x4c.Timeseries(dirpath, grid_dict={'atm': 'ne16np4'}, casename='b.e13.B1850C5.ne16_g16.icesm131_d18O_fixer.Miocene.3xCO2.005')"
   ]
  },
  {
   "cell_type": "code",
   "execution_count": 6,
   "metadata": {},
   "outputs": [
    {
     "name": "stdout",
     "output_type": "stream",
     "text": [
      "\u001b[36m\u001b[1m>>> Generating climo for 2 variables:\u001b[0m\n",
      "['TS', 'U']\n",
      "\u001b[90m\u001b[1m>>> nproc: 16\u001b[0m\n"
     ]
    },
    {
     "name": "stderr",
     "output_type": "stream",
     "text": [
      "Generating climo files: 100%|██████████| 2/2 [00:00<00:00, 10.83it/s]\n"
     ]
    },
    {
     "name": "stdout",
     "output_type": "stream",
     "text": [
      "\u001b[32m\u001b[1m>>> 2 climo files created in: /glade/derecho/scratch/fengzhu/share/x4c/b.e13.B1850C5.ne16_g16.icesm131_d18O_fixer.Miocene.3xCO2.005/climo\u001b[0m\n",
      "CPU times: user 88.2 ms, sys: 152 ms, total: 240 ms\n",
      "Wall time: 33.5 s\n"
     ]
    }
   ],
   "source": [
    "%%time\n",
    "\n",
    "case.gen_climo(\n",
    "    output_dirpath=f'/glade/derecho/scratch/fengzhu/share/x4c/{case.casename}/climo',\n",
    "    timespan=(6901, 7000),\n",
    "    vns=['TS', 'U'],\n",
    "    comp='atm',\n",
    "    nproc=16,\n",
    "    overwrite=True,\n",
    "    regrid=True,\n",
    ")"
   ]
  },
  {
   "cell_type": "code",
   "execution_count": null,
   "metadata": {},
   "outputs": [],
   "source": []
  }
 ],
 "metadata": {
  "kernelspec": {
   "display_name": "Python [conda env:x4c-env]",
   "language": "python",
   "name": "conda-env-x4c-env-py"
  },
  "language_info": {
   "codemirror_mode": {
    "name": "ipython",
    "version": 3
   },
   "file_extension": ".py",
   "mimetype": "text/x-python",
   "name": "python",
   "nbconvert_exporter": "python",
   "pygments_lexer": "ipython3",
   "version": "3.12.5"
  }
 },
 "nbformat": 4,
 "nbformat_minor": 2
}
